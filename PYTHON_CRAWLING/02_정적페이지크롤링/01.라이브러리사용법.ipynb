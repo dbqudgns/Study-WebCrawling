{
 "cells": [
  {
   "cell_type": "code",
   "execution_count": null,
   "id": "9b11cd8b",
   "metadata": {},
   "outputs": [],
   "source": [
    "pip install requests"
   ]
  },
  {
   "cell_type": "code",
   "execution_count": null,
   "id": "7d153c22",
   "metadata": {},
   "outputs": [],
   "source": [
    "pip install bs4"
   ]
  },
  {
   "cell_type": "code",
   "execution_count": 6,
   "id": "15b0df8e",
   "metadata": {},
   "outputs": [
    {
     "data": {
      "text/plain": [
       "200"
      ]
     },
     "execution_count": 6,
     "metadata": {},
     "output_type": "execute_result"
    }
   ],
   "source": [
    "import requests\n",
    "\n",
    "# 해당 주소로 GET 요청을 보내고 응답을 받음\n",
    "response = requests.get(\"https://startcoding.pythonanywhere.com/basic\")\n",
    "response.status_code\n"
   ]
  },
  {
   "cell_type": "code",
   "execution_count": null,
   "id": "f45adc96",
   "metadata": {},
   "outputs": [
    {
     "data": {
      "text/plain": [
       "<a class=\"brand-name\" href=\"https://www.youtube.com/channel/UCHwhZ7HPBhUh2IscPSL0pHA\" target=\"_blank\"><i class=\"fa fa-youtube\"></i>스타트코딩</a>"
      ]
     },
     "execution_count": 10,
     "metadata": {},
     "output_type": "execute_result"
    }
   ],
   "source": [
    "import requests\n",
    "from bs4 import BeautifulSoup\n",
    "\n",
    "# 해당 주소로 GET 요청을 보내고 응답을 받음\n",
    "response = requests.get(\"https://startcoding.pythonanywhere.com/basic\")\n",
    "html = response.text\n",
    "\n",
    "# html.parser를 통해 html 태그 객체로 분리\n",
    "soup = BeautifulSoup(html, 'html.parser')\n",
    "\n",
    "# 태그 속 선택자를 인수로 넣어 코드를 가져옴\n",
    "# select_one : 매칭되는 태그 중 첫 번째만 반환한다. \n",
    "soup.select_one(\".brand-name\")"
   ]
  },
  {
   "cell_type": "code",
   "execution_count": null,
   "id": "c06457ff",
   "metadata": {},
   "outputs": [
    {
     "data": {
      "text/plain": [
       "'스타트코딩'"
      ]
     },
     "execution_count": 11,
     "metadata": {},
     "output_type": "execute_result"
    }
   ],
   "source": [
    "soup.select_one(\".brand-name\").text # 태그 속 선택자를 인수로 넣어 텍스트만 가져옴"
   ]
  },
  {
   "cell_type": "code",
   "execution_count": null,
   "id": "b5997303",
   "metadata": {},
   "outputs": [
    {
     "data": {
      "text/plain": [
       "{'class': ['brand-name'],\n",
       " 'href': 'https://www.youtube.com/channel/UCHwhZ7HPBhUh2IscPSL0pHA',\n",
       " 'target': '_blank'}"
      ]
     },
     "execution_count": 12,
     "metadata": {},
     "output_type": "execute_result"
    }
   ],
   "source": [
    "soup.select_one(\".brand-name\").attrs # 태그 속 선택자를 인수로 넣어 모든 속성과 속성 값을 딕셔너리 형태로 가져옴"
   ]
  },
  {
   "cell_type": "code",
   "execution_count": null,
   "id": "e8e79e27",
   "metadata": {},
   "outputs": [
    {
     "data": {
      "text/plain": [
       "'https://www.youtube.com/channel/UCHwhZ7HPBhUh2IscPSL0pHA'"
      ]
     },
     "execution_count": 14,
     "metadata": {},
     "output_type": "execute_result"
    }
   ],
   "source": [
    "soup.select_one(\".brand-name\").attrs['href'] # 태그 속 선택자와 속성을 인수로 넣어 속성 값을 가져옴 "
   ]
  },
  {
   "cell_type": "code",
   "execution_count": null,
   "id": "9f862495",
   "metadata": {},
   "outputs": [
    {
     "data": {
      "text/plain": [
       "'_blank'"
      ]
     },
     "execution_count": 16,
     "metadata": {},
     "output_type": "execute_result"
    }
   ],
   "source": [
    "soup.select_one(\".brand-name\").attrs['target'] # 태그 속 선택자와 속성을 인수로 넣어 속성 값을 가져옴"
   ]
  }
 ],
 "metadata": {
  "kernelspec": {
   "display_name": "Python 3",
   "language": "python",
   "name": "python3"
  },
  "language_info": {
   "codemirror_mode": {
    "name": "ipython",
    "version": 3
   },
   "file_extension": ".py",
   "mimetype": "text/x-python",
   "name": "python",
   "nbconvert_exporter": "python",
   "pygments_lexer": "ipython3",
   "version": "3.13.3"
  }
 },
 "nbformat": 4,
 "nbformat_minor": 5
}
